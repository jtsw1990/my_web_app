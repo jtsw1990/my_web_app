{
 "cells": [
  {
   "cell_type": "markdown",
   "metadata": {},
   "source": [
    "# Neural Networks Visualized"
   ]
  },
  {
   "cell_type": "markdown",
   "metadata": {},
   "source": [
    "This little interactive tool is meant to give the user some idea of what an ANN (Artificial Neural Network) is doing under the hood. Although this example can seem oversimplified, the underlying concept extends to more complicated scenarios and higher dimensions. Warning this could get a little technical mathematically."
   ]
  },
  {
   "cell_type": "code",
   "execution_count": 1,
   "metadata": {
    "ExecuteTime": {
     "end_time": "2019-05-19T14:01:18.537967Z",
     "start_time": "2019-05-19T14:01:18.025048Z"
    }
   },
   "outputs": [],
   "source": [
    "# nbi:hide_in\n",
    "import pandas as pd\n",
    "import matplotlib.pyplot as plt\n",
    "import numpy as np\n",
    "from numpy import exp\n",
    "\n",
    "from ipywidgets import interact\n",
    "import ipywidgets as widgets\n",
    "%matplotlib inline\n",
    "plt.style.use(\"ggplot\")"
   ]
  },
  {
   "cell_type": "markdown",
   "metadata": {},
   "source": [
    "## Recap on Neural Networks"
   ]
  },
  {
   "cell_type": "markdown",
   "metadata": {},
   "source": [
    "The basic idea of an ANN revolves around the idea of neurons, weights, biases and activation functions. It takes inspiration from the way biological neural networks in our brains process information. "
   ]
  },
  {
   "cell_type": "markdown",
   "metadata": {},
   "source": [
    "## Problem at hand"
   ]
  },
  {
   "cell_type": "markdown",
   "metadata": {},
   "source": [
    "Here, we have some very simple sample data with 2 features and a single binary response. This will simulate a classification problem where the goal, is to try and build a model that would predict whether a newly introduced data point would belong to one group or the other."
   ]
  },
  {
   "cell_type": "code",
   "execution_count": 2,
   "metadata": {
    "ExecuteTime": {
     "end_time": "2019-05-19T14:01:18.557740Z",
     "start_time": "2019-05-19T14:01:18.540392Z"
    }
   },
   "outputs": [
    {
     "data": {
      "text/html": [
       "<div>\n",
       "<style scoped>\n",
       "    .dataframe tbody tr th:only-of-type {\n",
       "        vertical-align: middle;\n",
       "    }\n",
       "\n",
       "    .dataframe tbody tr th {\n",
       "        vertical-align: top;\n",
       "    }\n",
       "\n",
       "    .dataframe thead th {\n",
       "        text-align: right;\n",
       "    }\n",
       "</style>\n",
       "<table border=\"1\" class=\"dataframe\">\n",
       "  <thead>\n",
       "    <tr style=\"text-align: right;\">\n",
       "      <th></th>\n",
       "      <th>feature_one</th>\n",
       "      <th>feature_two</th>\n",
       "      <th>response</th>\n",
       "    </tr>\n",
       "  </thead>\n",
       "  <tbody>\n",
       "    <tr>\n",
       "      <th>0</th>\n",
       "      <td>1</td>\n",
       "      <td>2</td>\n",
       "      <td>0</td>\n",
       "    </tr>\n",
       "    <tr>\n",
       "      <th>1</th>\n",
       "      <td>5</td>\n",
       "      <td>5</td>\n",
       "      <td>1</td>\n",
       "    </tr>\n",
       "    <tr>\n",
       "      <th>2</th>\n",
       "      <td>5</td>\n",
       "      <td>2</td>\n",
       "      <td>1</td>\n",
       "    </tr>\n",
       "    <tr>\n",
       "      <th>3</th>\n",
       "      <td>3</td>\n",
       "      <td>2</td>\n",
       "      <td>1</td>\n",
       "    </tr>\n",
       "    <tr>\n",
       "      <th>4</th>\n",
       "      <td>1</td>\n",
       "      <td>5</td>\n",
       "      <td>0</td>\n",
       "    </tr>\n",
       "    <tr>\n",
       "      <th>5</th>\n",
       "      <td>3</td>\n",
       "      <td>4</td>\n",
       "      <td>1</td>\n",
       "    </tr>\n",
       "    <tr>\n",
       "      <th>6</th>\n",
       "      <td>2</td>\n",
       "      <td>2</td>\n",
       "      <td>0</td>\n",
       "    </tr>\n",
       "    <tr>\n",
       "      <th>7</th>\n",
       "      <td>1</td>\n",
       "      <td>3</td>\n",
       "      <td>0</td>\n",
       "    </tr>\n",
       "    <tr>\n",
       "      <th>8</th>\n",
       "      <td>4</td>\n",
       "      <td>5</td>\n",
       "      <td>1</td>\n",
       "    </tr>\n",
       "    <tr>\n",
       "      <th>9</th>\n",
       "      <td>3</td>\n",
       "      <td>1</td>\n",
       "      <td>0</td>\n",
       "    </tr>\n",
       "  </tbody>\n",
       "</table>\n",
       "</div>"
      ],
      "text/plain": [
       "   feature_one  feature_two  response\n",
       "0            1            2         0\n",
       "1            5            5         1\n",
       "2            5            2         1\n",
       "3            3            2         1\n",
       "4            1            5         0\n",
       "5            3            4         1\n",
       "6            2            2         0\n",
       "7            1            3         0\n",
       "8            4            5         1\n",
       "9            3            1         0"
      ]
     },
     "execution_count": 2,
     "metadata": {},
     "output_type": "execute_result"
    }
   ],
   "source": [
    "# nbi:hide_in\n",
    "df = pd.DataFrame(np.array([[1, 2, 0], [5, 5, 1], [5, 2, 1], [3, 2, 1], [1, 5, 0], [3, 4, 1], [2, 2, 0], [1, 3, 0], [4, 5, 1], [3, 1, 0]]))\n",
    "df.columns = [\"feature_one\", \"feature_two\", \"response\"]\n",
    "df"
   ]
  },
  {
   "cell_type": "code",
   "execution_count": 3,
   "metadata": {
    "ExecuteTime": {
     "end_time": "2019-05-19T14:01:18.799615Z",
     "start_time": "2019-05-19T14:01:18.559656Z"
    }
   },
   "outputs": [
    {
     "data": {
      "text/plain": [
       "<matplotlib.collections.PathCollection at 0x118637cc0>"
      ]
     },
     "execution_count": 3,
     "metadata": {},
     "output_type": "execute_result"
    },
    {
     "data": {
      "image/png": "[encoded data removed]",
      "text/plain": [
       "<Figure size 432x288 with 1 Axes>"
      ]
     },
     "metadata": {},
     "output_type": "display_data"
    }
   ],
   "source": [
    "plt.scatter(\n",
    "    df[\"feature_one\"], \n",
    "    df[\"feature_two\"], \n",
    "    c=df[\"response\"], \n",
    "    cmap=\"Accent\"\n",
    ")"
   ]
  },
  {
   "cell_type": "markdown",
   "metadata": {},
   "source": [
    "This is an example of a dataset being linearly separable. What this means is that, there exists a straight line that separates the green points from the grey points on the graph above. Let's now build a very simple ANN to see if it is capable of doing just that!"
   ]
  },
  {
   "cell_type": "markdown",
   "metadata": {},
   "source": [
    "## Example A: Single Layered Networks"
   ]
  },
  {
   "cell_type": "markdown",
   "metadata": {},
   "source": [
    "The first ANN we are going to build has a structure that looks like this:"
   ]
  },
  {
   "cell_type": "code",
   "execution_count": 4,
   "metadata": {
    "ExecuteTime": {
     "end_time": "2019-05-19T14:01:18.857340Z",
     "start_time": "2019-05-19T14:01:18.801805Z"
    }
   },
   "outputs": [],
   "source": [
    "# nbi:hide_in\n",
    "%load_ext hierarchymagic"
   ]
  },
  {
   "cell_type": "code",
   "execution_count": 5,
   "metadata": {
    "ExecuteTime": {
     "end_time": "2019-05-19T14:01:19.701246Z",
     "start_time": "2019-05-19T14:01:18.859626Z"
    }
   },
   "outputs": [
    {
     "data": {
      "image/png": "[encoded data removed]"
     },
     "metadata": {},
     "output_type": "display_data"
    }
   ],
   "source": [
    "%%dot\n",
    "digraph {\n",
    "        rankdir = LR\n",
    "        feature_one -> output_one\n",
    "        feature_one -> output_two\n",
    "        feature_two -> output_one\n",
    "        feature_two -> output_two\n",
    "        }"
   ]
  },
  {
   "cell_type": "markdown",
   "metadata": {},
   "source": [
    "Recall that the formula for an ANN output on this dataset (without any bias terms) with 1 layer would look like: <br>\n",
    "\n",
    "$w_1 * x_1 + w_2 * x_2 = o_1$ <br>\n",
    "$w_3 * x_1 + w_4 * x_2 = o_2$<br>\n",
    "\n",
    "Now, both outputs will give us some kind of probability or likelihood that the response is either 1 or 0. For example, if $o_1$ gave an output of 0.6 and $o_2$ gave 0.4, the particular data point would then be classified as green instead of grey."
   ]
  },
  {
   "cell_type": "markdown",
   "metadata": {},
   "source": [
    "$w_1 * x_1 + w_2 * x_2 = w_3 * x_1 + w_4 * x_2$ <br>\n",
    "$w_1 * x_1 - w_3 * x_1 = w_4 * x_2 - w_2 * x_2$<br>\n",
    "$x_1 ( w_1 - w_3) = x_2 ( w_4 - w_2)$<br>\n",
    "$x_2 = x_1\\dfrac{w_1 - w_3}{w_4 - w_2}$"
   ]
  },
  {
   "cell_type": "code",
   "execution_count": 6,
   "metadata": {
    "ExecuteTime": {
     "end_time": "2019-05-19T14:01:19.961592Z",
     "start_time": "2019-05-19T14:01:19.703726Z"
    },
    "scrolled": false
   },
   "outputs": [
    {
     "data": {
      "application/vnd.jupyter.widget-view+json": {
       "model_id": "2d16471b589c4a22884fcc7ae801431b",
       "version_major": 2,
       "version_minor": 0
      },
      "text/plain": [
       "interactive(children=(FloatSlider(value=0.1, description='weight_one', max=0.5, min=-0.5, step=0.01), FloatSli…"
      ]
     },
     "metadata": {},
     "output_type": "display_data"
    }
   ],
   "source": [
    "# nbi:hide_in\n",
    "@interact(\n",
    "    weight_one=widgets.FloatSlider(min=-0.5, max=0.5, step=0.01, value=0.1),\n",
    "    weight_two=widgets.FloatSlider(min=-0.5, max=0.5, step=0.01, value=0.1),\n",
    "    weight_three=widgets.FloatSlider(min=-0.5, max=0.5, step=0.01, value=0.1),\n",
    "    weight_four=widgets.FloatSlider(min=-0.5, max=0.5, step=0.01, value=0),\n",
    "         )\n",
    "def plot_db(weight_one, weight_two, weight_three, weight_four):\n",
    "    df = pd.DataFrame(np.array([[1, 2, 0], [5, 5, 1], [5, 2, 1], [3, 2, 1], [1, 5, 0], [3, 4, 1], [2, 2, 0], [1, 3, 0], [4, 5, 1], [3, 1, 0]]))\n",
    "    df.columns = [\"feature_one\", \"feature_two\", \"response\"]\n",
    "    x_points = df[\"feature_one\"].values\n",
    "    weights = (weight_one - weight_three) / (weight_four - weight_two)\n",
    "    y_points = weights * x_points\n",
    "    plt.scatter(\n",
    "    df[\"feature_one\"], \n",
    "    df[\"feature_two\"], \n",
    "    c=df[\"response\"], \n",
    "    cmap=\"Accent\"\n",
    "    )\n",
    "    plt.xlim(-2, 8)\n",
    "    plt.ylim(-2, 8)\n",
    "    plt.plot(x_points, y_points, alpha=1)\n",
    "    x = np.linspace(0, 5, 10)\n",
    "    boundary= np.min(list(y_points) + [0])\n",
    "    shade_y = np.linspace(boundary, boundary, len(x))\n",
    "    plt.plot(x, shade_y, alpha=0)\n",
    "    testing_shade_y = weights * x\n",
    "    # plt.fill_between(x, testing_shade_y, shade_y, where=y_points>=shade_y, facecolor='green', alpha=0.3)"
   ]
  },
  {
   "cell_type": "markdown",
   "metadata": {},
   "source": [
    "## Example B: Bias terms"
   ]
  },
  {
   "cell_type": "markdown",
   "metadata": {},
   "source": [
    "We could see that although the current model gives us a straight line to separate the data, we don't have much of a choice in terms of choosing where the line starts although we can rotate the line almost in any direction that we want. We can overcome this by adding a bias term. Recall from simple linear regression that a bias term shifts the line up and down for a 2 dimensional dataset. Let's see what adding 2 bias terms do for our decision boundary below!"
   ]
  },
  {
   "cell_type": "markdown",
   "metadata": {},
   "source": [
    "$w_1 * x_1 + w_2 * x_2 + b_1 = o_1$ <br>\n",
    "$w_3 * x_1 + w_4 * x_2 + b_2 = o_2$<br>\n",
    "$w_1 * x_1 + w_2 * x_2 + b_1 = w_3 * x_1 + w_4 * x_2 + b_2$ <br>\n",
    "$w_1 * x_1 - w_3 * x_1 + b_1 = w_4 * x_2 - w_2 * x_2 + b_2$<br>\n",
    "$x_1 ( w_1 - w_3) + b_1  = x_2 ( w_4 - w_2) + b_2$<br>\n",
    "$x_2 = \\dfrac{x_1(w_1 - w_3) + b_1 - b_2}{w_4 - w_2}$ <br>\n",
    "$x_2 = \\dfrac{x_1(w_1 - w_3)}{w_4 - w_2} + \\dfrac{b_1 - b_2}{w_4 - w_2}$"
   ]
  },
  {
   "cell_type": "code",
   "execution_count": 7,
   "metadata": {
    "ExecuteTime": {
     "end_time": "2019-05-19T14:01:20.249231Z",
     "start_time": "2019-05-19T14:01:19.964268Z"
    }
   },
   "outputs": [
    {
     "data": {
      "application/vnd.jupyter.widget-view+json": {
       "model_id": "9ce0000ade4c44bfb06db7a585508120",
       "version_major": 2,
       "version_minor": 0
      },
      "text/plain": [
       "interactive(children=(FloatSlider(value=0.1, description='weight_one', max=0.5, min=-0.5, step=0.01), FloatSli…"
      ]
     },
     "metadata": {},
     "output_type": "display_data"
    }
   ],
   "source": [
    "# nbi:hide_in\n",
    "@interact(\n",
    "    weight_one=widgets.FloatSlider(min=-0.5, max=0.5, step=0.01, value=0.1),\n",
    "    weight_two=widgets.FloatSlider(min=-0.5, max=0.5, step=0.01, value=-0.02),\n",
    "    weight_three=widgets.FloatSlider(min=-0.5, max=0.5, step=0.01, value=0.17),\n",
    "    weight_four=widgets.FloatSlider(min=-0.5, max=0.5, step=0.01, value=0.17),\n",
    "    bias_one = widgets.FloatSlider(min=-5, max=5, step=0.1, value=0.8),\n",
    "    bias_two = widgets.FloatSlider(min=-5, max=5, step=0.1, value=0.12)\n",
    "         )\n",
    "def plot_db(weight_one, weight_two, weight_three, weight_four, bias_one, bias_two):\n",
    "    df = pd.DataFrame(np.array([[1, 2, 0], [5, 5, 1], [5, 2, 1], [3, 2, 1], [1, 5, 0], [3, 4, 1], [2, 2, 0], [1, 3, 0], [4, 5, 1], [3, 1, 0]]))\n",
    "    df.columns = [\"feature_one\", \"feature_two\", \"response\"]\n",
    "    x_points = df[\"feature_one\"].values\n",
    "    weights = (weight_one - weight_three) / (weight_four - weight_two)\n",
    "    y_points = (weights * x_points) + ((bias_one - bias_two) / (weight_four - weight_two))\n",
    "    plt.scatter(\n",
    "    df[\"feature_one\"], \n",
    "    df[\"feature_two\"], \n",
    "    c=df[\"response\"], \n",
    "    cmap=\"Accent\"\n",
    "    )\n",
    "    plt.xlim(-2, 8)\n",
    "    plt.ylim(-2, 8)\n",
    "    plt.plot(x_points, y_points, alpha=1)\n",
    "    x = np.linspace(0, 5, 10)\n",
    "    boundary= np.min(list(y_points) + [0])\n",
    "    shade_y = np.linspace(boundary, boundary, len(x))\n",
    "    plt.plot(x, shade_y, alpha=0)\n",
    "    testing_shade_y = weights * x\n",
    "    #plt.fill_between(x, testing_shade_y, shade_y, where=y_points>=shade_y, facecolor='green', alpha=0.3)"
   ]
  },
  {
   "cell_type": "markdown",
   "metadata": {},
   "source": [
    "## Example C: Multi-layered Networks"
   ]
  },
  {
   "cell_type": "markdown",
   "metadata": {},
   "source": [
    "$a_1 = x_1w_1 + x_2w_2 + b_1$ <br>\n",
    "$a_2 = x_1w_3 + x_2w_4 + b_2$ <br>\n",
    "\n",
    "$a_1w_7 + a_2w_8 + a_3w_9 + b_4 = a_1w_{10} + a_2w_{11} + a_3w_{12} + b_5$ <br>\n",
    "\n",
    "$a_1(w_7 - w_{10}) + a_2(w_8 - w_{11}) + a_3(w_9 - w_{12}) + b_4 - b _5 = 0$ <br>\n",
    "\n",
    "... <br>\n",
    "... <br>\n",
    "\n",
    "$x_1 = \\dfrac{b_5 - b_4 - b_1y_1 - b_2y_2 - b_3y_3 - x_2(w_2y_1 + w_4y_2 + w_6y_3)}{w_1y_1 + w_3y_2 + w_5y_3}$ <br>\n",
    "\n",
    "Where: <br>\n",
    "$y_1 = w_7 - w_{10}$ <br>\n",
    "$y_2 = w_8 - w_{11}$ <br>\n",
    "$y_3 = w_9 - w_{12}$"
   ]
  },
  {
   "cell_type": "markdown",
   "metadata": {
    "ExecuteTime": {
     "end_time": "2019-05-07T14:57:27.606780Z",
     "start_time": "2019-05-07T14:57:27.603679Z"
    }
   },
   "source": [
    "If you would recall you basic mathematics lessons, then it would not be surprising to find out that any linear combination of a linear formula would still get you something linear!"
   ]
  },
  {
   "cell_type": "markdown",
   "metadata": {},
   "source": [
    "## Example D: Non-Linearities"
   ]
  },
  {
   "cell_type": "markdown",
   "metadata": {},
   "source": [
    "So far, we have only been dealing with this thing called \"linearly separable\" datasets. What if our data looks something like this? What tools do we have to add to our ANN because it seems like we have been producing linear models up to this point in time!"
   ]
  },
  {
   "cell_type": "code",
   "execution_count": 8,
   "metadata": {
    "ExecuteTime": {
     "end_time": "2019-05-19T14:01:20.668418Z",
     "start_time": "2019-05-19T14:01:20.251737Z"
    }
   },
   "outputs": [
    {
     "data": {
      "application/vnd.jupyter.widget-view+json": {
       "model_id": "7c9315cb9ddb4eec850bfa1593ad827b",
       "version_major": 2,
       "version_minor": 0
      },
      "text/plain": [
       "interactive(children=(FloatSlider(value=0.0, description='w1', max=5.0, min=-5.0), FloatSlider(value=0.0, desc…"
      ]
     },
     "metadata": {},
     "output_type": "display_data"
    }
   ],
   "source": [
    "# nbi:hide_in\n",
    "@interact(\n",
    "    w1=widgets.FloatSlider(min=-5, max=5, step=0.1, value=0),\n",
    "    w2=widgets.FloatSlider(min=-5, max=5, step=0.1, value=0),\n",
    "    w3=widgets.FloatSlider(min=-5, max=5, step=0.1, value=0),\n",
    "    w4=widgets.FloatSlider(min=-5, max=5, step=0.1, value=0.1),\n",
    "    w5=widgets.FloatSlider(min=-5, max=5, step=0.1, value=0.3),\n",
    "    w6=widgets.FloatSlider(min=-5, max=5, step=0.1, value=1.3),\n",
    "    w7=widgets.FloatSlider(min=-5, max=5, step=0.1, value=0.6),\n",
    "    w8=widgets.FloatSlider(min=-5, max=5, step=0.1, value=0),\n",
    "    w9=widgets.FloatSlider(min=-5, max=5, step=0.1, value=0.3),\n",
    "    w10=widgets.FloatSlider(min=-5, max=5, step=0.1, value=0.6),\n",
    "    w11=widgets.FloatSlider(min=-5, max=5, step=0.1, value=1.1),\n",
    "    w12=widgets.FloatSlider(min=-5, max=5, step=0.1, value=0.7),\n",
    "    b1=widgets.FloatSlider(min=-5, max=5, step=0.1, value=-0.1),\n",
    "    b2=widgets.FloatSlider(min=-5, max=5, step=0.1, value=0),\n",
    "    b3=widgets.FloatSlider(min=-5, max=5, step=0.1, value=-0.6),\n",
    "    b4=widgets.FloatSlider(min=-5, max=5, step=0.1, value=-0.6),\n",
    "    b5=widgets.FloatSlider(min=-5, max=5, step=0.1, value=0.4),\n",
    "    activation_function =True\n",
    "         )\n",
    "def plot_decision_boundary(w1, w2, w3, w4, w5, w6, w7, w8, w9, w10, w11, w12, b1, b2, b3, b4, b5, activation=True):\n",
    "    df = pd.DataFrame(np.array([[1, 2, 0], [5, 5, 1], [5, 2, 1], [3, 2, 1], [1, 5, 0], [3, 4, 1], [2, 2, 0], [1, 3, 0], [4, 5, 1], [3, 1, 0]]))\n",
    "    df.columns = [\"feature_one\", \"feature_two\", \"response\"]\n",
    "    a1 = w7 - w10\n",
    "    a2 = w8 - w11\n",
    "    a3 = w9 - w12\n",
    "    plt.figure() # Create a new figure window\n",
    "    xlist = np.linspace(-10.0, 10.0, 100) # Create 1-D arrays for x,y dimensions\n",
    "    ylist = np.linspace(-10.0, 10.0, 100)\n",
    "    plt.scatter(\n",
    "        df[\"feature_one\"], \n",
    "        df[\"feature_two\"], \n",
    "        c=df[\"response\"], \n",
    "        cmap=\"Accent\"\n",
    "        )\n",
    "    if activation:\n",
    "        X,Y = np.meshgrid(xlist, ylist) # Create 2-D grid xlist,ylist values\n",
    "        F = (a1 / (1 + exp(-(w1 * X + w2 * Y + b1)))) + (a2 / (1 + exp(-(w3 * X + w4 * Y + b2)))) + (a3 / (1 + exp(-(w5 * X + w6 * Y + b3)))) + b5 - b4\n",
    "        plt.contour(X, Y, F, [0], colors = 'k', linestyles = 'solid')\n",
    "        plt.show()\n",
    "    else:\n",
    "        x_points = df[\"feature_one\"].values\n",
    "        denominator = w1 * a1 + w4 * a2 + w6 * a3\n",
    "        num_1 = b5 - b4 - (b1 * a1) - (b2 * a2) - (b3 * a3)\n",
    "        num_2 =  x_points * (w1 * a1 + w3 * a2 + w5 * a3)\n",
    "        y_points = (num_1 - num_2) / denominator\n",
    "        plt.xlim(np.min(xlist), np.max(xlist))\n",
    "        plt.ylim(np.min(ylist), np.max(ylist))\n",
    "        plt.plot(x_points, y_points, alpha=1)\n",
    "        x = np.linspace(0, 5, 10)\n",
    "        plt.show()\n",
    "        # boundary= np.min(list(y_points) + [0])\n",
    "        # shade_y = np.linspace(boundary, boundary, len(x))\n",
    "        # plt.plot(x, shade_y, alpha=0)\n",
    "        # testing_shade_y = weights * x\n",
    "        # plt.fill_between(x, testing_shade_y, shade_y, where=y_points>=shade_y, facecolor='green', alpha=0.3)"
   ]
  },
  {
   "cell_type": "markdown",
   "metadata": {},
   "source": [
    "Have a play with the different weights to try and get a reasonable looking line that separates the green dots from the black ones. The goal of machine learning is to then create models that would find the \"best\" line that does exactly this!"
   ]
  },
  {
   "cell_type": "code",
   "execution_count": null,
   "metadata": {},
   "outputs": [],
   "source": []
  }
 ],
 "metadata": {
  "kernelspec": {
   "display_name": "Python 3",
   "language": "python",
   "name": "python3"
  },
  "language_info": {
   "codemirror_mode": {
    "name": "ipython",
    "version": 3
   },
   "file_extension": ".py",
   "mimetype": "text/x-python",
   "name": "python",
   "nbconvert_exporter": "python",
   "pygments_lexer": "ipython3",
   "version": "3.6.8"
  },
  "varInspector": {
   "cols": {
    "lenName": 16,
    "lenType": 16,
    "lenVar": 40
   },
   "kernels_config": {
    "python": {
     "delete_cmd_postfix": "",
     "delete_cmd_prefix": "del ",
     "library": "var_list.py",
     "varRefreshCmd": "print(var_dic_list())"
    },
    "r": {
     "delete_cmd_postfix": ") ",
     "delete_cmd_prefix": "rm(",
     "library": "var_list.r",
     "varRefreshCmd": "cat(var_dic_list()) "
    }
   },
   "types_to_exclude": [
    "module",
    "function",
    "builtin_function_or_method",
    "instance",
    "_Feature"
   ],
   "window_display": false
  }
 },
 "nbformat": 4,
 "nbformat_minor": 2
}
